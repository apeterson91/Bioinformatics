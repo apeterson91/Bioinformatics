{
 "metadata": {
  "name": "",
  "signature": "sha256:27d7ff858389900c99bec886010fd51c7c47380073a7d05aa137aac4008472b7"
 },
 "nbformat": 3,
 "nbformat_minor": 0,
 "worksheets": [
  {
   "cells": [
    {
     "cell_type": "markdown",
     "metadata": {},
     "source": [
      "Sequencing Antibiotics\n",
      "-------\n",
      "\n",
      "#RNA-->AA\n",
      "We first begin by translating RNA script into AA\n"
     ]
    },
    {
     "cell_type": "code",
     "collapsed": false,
     "input": [
      "from Bio.Seq import Seq\n",
      "from Bio.Alphabet import IUPAC,generic_dna\n",
      "\n",
      "# f=open(\"abinput_one.txt\",\"r\")\n",
      "# string=f.read()\n",
      "# o=open(\"aboutput_one.txt\",\"w\")\n",
      "\n",
      "# o.write(str(Seq(string,generic_rna).translate(to_stop=True)))\n",
      "# f.close()\n",
      "# o.close()\n",
      "\n"
     ],
     "language": "python",
     "metadata": {},
     "outputs": [],
     "prompt_number": 1
    },
    {
     "cell_type": "markdown",
     "metadata": {},
     "source": [
      "## Reverse Translate!"
     ]
    },
    {
     "cell_type": "code",
     "collapsed": false,
     "input": [
      "tyrocine = Seq(\"VKLFPWFNQY\", IUPAC.protein)\n",
      "\n",
      "# Example code to follow below\n",
      "#my_protein = Seq('AVMGRWKGGRAAG', IUPAC.protein)\n",
      "# standard_translator.back_translate(my_protein)\n",
      "# Seq('GCTGTTATGGGTCGTTGGAAGGGTGGTCGTGCTGCTGGT', IUPACUnambiguousDNA())"
     ],
     "language": "python",
     "metadata": {},
     "outputs": [],
     "prompt_number": 2
    },
    {
     "cell_type": "markdown",
     "metadata": {},
     "source": [
      "We say that a DNA string Pattern encodes an amino acid string Peptide if the RNA string transcribed from either Pattern or its reverse complement Pattern translates into Peptide. For example, the DNA string GAAACT is transcribed into GAAACU and translated into ET. The reverse complement of this DNA string, AGTTTC, is transcribed into AGUUUC and translated into SF. Thus, GAAACT encodes both ET and SF.\n",
      "\n",
      "\n",
      "Peptide Encoding Problem: Find substrings of a genome encoding a given amino acid sequence.\n",
      "     Input: A DNA string Text, an amino acid string Peptide, and the array GeneticCode.\n",
      "     Output: All substrings of Text encoding Peptide (if any such substrings exist)."
     ]
    },
    {
     "cell_type": "code",
     "collapsed": false,
     "input": [
      "from string import ascii_uppercase\n",
      "\n",
      "# thinking of ways to speed up function- instead of comparing translated dna or dna complement to peptide, reverse translate all the possible\n",
      "# combinations of Peptide and run those against the text codons and text codons complement. May or may not speed up algorithm slightly\n",
      "def find_peptide(Text,Peptide):\n",
      "    Text=Seq(Text,IUPAC.ambiguous_dna)\n",
      "    textlength=len(str(Text))\n",
      "    num_nucleotides=len(Peptide)*3\n",
      "    sequencesofinterest=[]\n",
      "    i=0\n",
      "    while i<textlength-num_nucleotides:\n",
      "        codonsofinterest=Text[i:i+num_nucleotides]\n",
      "        complement=codonsofinterest.reverse_complement()\n",
      "        i+=1\n",
      "        try:\n",
      "            if str(codonsofinterest.translate())==Peptide or str(complement.translate())==Peptide:\n",
      "                sequencesofinterest.append(str(codonsofinterest))\n",
      "        except:\n",
      "            print i\n",
      "    return sequencesofinterest\n",
      "\n",
      "answer = find_peptide(\"CYCLIC\",AAs)\n",
      "print answer\n",
      "# f=open(\"peptidefindinput.txt\",\"r\") # Used to answer the exercise\n",
      "# Codons=str(f.readline())\n",
      "# AA=str(f.readline())\n",
      "# f.close()\n",
      "# f=open(\"B_brevis.txt\",\"r\")\n",
      "# Codons=str(f.read())\n",
      "# Codons=Codons.strip()\n",
      "# AA=\"VKLFPWFNQY\"\n",
      "# f.close()\n",
      "# String=\"\"\n",
      "# for i in Codons:\n",
      "#     if i in ascii_uppercase:\n",
      "#         String+=str(i)\n",
      "\n",
      "# answer = find_peptide(String,AA)\n",
      "# print len(answer)"
     ],
     "language": "python",
     "metadata": {},
     "outputs": [
      {
       "ename": "NameError",
       "evalue": "name 'AAs' is not defined",
       "output_type": "pyerr",
       "traceback": [
        "\u001b[0;31m---------------------------------------------------------------------------\u001b[0m\n\u001b[0;31mNameError\u001b[0m                                 Traceback (most recent call last)",
        "\u001b[0;32m<ipython-input-3-b24af92306e4>\u001b[0m in \u001b[0;36m<module>\u001b[0;34m()\u001b[0m\n\u001b[1;32m     20\u001b[0m     \u001b[0;32mreturn\u001b[0m \u001b[0msequencesofinterest\u001b[0m\u001b[0;34m\u001b[0m\u001b[0m\n\u001b[1;32m     21\u001b[0m \u001b[0;34m\u001b[0m\u001b[0m\n\u001b[0;32m---> 22\u001b[0;31m \u001b[0manswer\u001b[0m \u001b[0;34m=\u001b[0m \u001b[0mfind_peptide\u001b[0m\u001b[0;34m(\u001b[0m\u001b[0;34m\"CYCLIC\"\u001b[0m\u001b[0;34m,\u001b[0m\u001b[0mAAs\u001b[0m\u001b[0;34m)\u001b[0m\u001b[0;34m\u001b[0m\u001b[0m\n\u001b[0m\u001b[1;32m     23\u001b[0m \u001b[0;32mprint\u001b[0m \u001b[0manswer\u001b[0m\u001b[0;34m\u001b[0m\u001b[0m\n\u001b[1;32m     24\u001b[0m \u001b[0;31m# f=open(\"peptidefindinput.txt\",\"r\") # Used to answer the exercise\u001b[0m\u001b[0;34m\u001b[0m\u001b[0;34m\u001b[0m\u001b[0m\n",
        "\u001b[0;31mNameError\u001b[0m: name 'AAs' is not defined"
       ]
      }
     ],
     "prompt_number": 3
    },
    {
     "cell_type": "markdown",
     "metadata": {},
     "source": [
      "## Finding Bacterially sequenced proteins\n",
      "\n",
      "Because tyrocine (our antibioitic of interest here) is a cyclic peptide, there are a great many number of possible peptides\n",
      "we would look for, but none of them are found in sequence (right next to each other) within the bacillus brevis genome"
     ]
    },
    {
     "cell_type": "markdown",
     "metadata": {},
     "source": [
      "Instead of using genome sequencing, let's use mass spectrometry"
     ]
    },
    {
     "cell_type": "code",
     "collapsed": false,
     "input": [
      "from Bio.SeqUtils.ProtParam import ProteinAnalysis\n",
      "import itertools\n",
      "## find number of possible number of subpeptides from a peptide of length n\n",
      "\n",
      "def num_subpeptides(n):\n",
      "    return (n-1)*n\n",
      "# return list of all masses of possible subpeptides\n",
      "\n",
      "\n",
      "def find_mass(Peptide):\n",
      "    AAs={\"G\": 57,\"A\": 71,\"S\": 87, \"P\": 97, \"V\": 99, \"T\": 101, \"C\": 103, \"I\": 113, \"L\": 113, \"N\": 114, \"D\": 115, \"K\": 128, \"Q\": 128, \"E\": 129, \"M\": 131, \"H\": 137, \"F\": 147, \"R\": 156, \"Y\": 163, \"W\": 186}\n",
      "    mass=0\n",
      "    for i in Peptide:\n",
      "        mass+=AAs[i]\n",
      "    return mass\n",
      "\n",
      "def Cyclospectrum(Peptide):\n",
      "    masses=[0,find_mass(Peptide)];i=len(Peptide)\n",
      "    while i!=1:\n",
      "        i-=1\n",
      "        for z in itertools.combinations(Peptide,i):\n",
      "            pep=\"\".join(z)\n",
      "            masses.append(find_mass(pep))\n",
      "    return masses\n",
      "\n",
      "## still not sure how they're generating all the possible combinations of subpeptides\n",
      "# Peptide=\"IAQMLFYCKVATN\"\n",
      "Peptide=\"PNGPSQGMPSRAG\"\n",
      "answer= Cyclospectrum(Peptide)\n",
      "answer.sort()\n",
      "f=open(\"cyclospectrumoutput.txt\",\"w\")\n",
      "for i in answer:\n",
      "    f.write(str(i)+\" \")\n",
      "f.close()"
     ],
     "language": "python",
     "metadata": {},
     "outputs": [],
     "prompt_number": 4
    },
    {
     "cell_type": "markdown",
     "metadata": {},
     "source": [
      "The theoretical spectrum of a cyclic peptide *Peptide* denoted *Cyclospectrum(Peptide)* is the collection of all of the masses of its subpeptides, in addition to the mass 9 and the mass of the entire peptide with masses ordered from smallest to largest. We will assume that the theoretical spectrum can contain duplicate elements as is the case for NQEL where NQ and EL have the same mass.\n",
      "\n",
      "Above, is my first attempt (solo attempt) to determine the CycloSpectrum using a combination generator. Unfortunately, this didn't work, so I followed the book's instructions (below) to determine the Linear and Cyclic Spectrums, which *did* work."
     ]
    },
    {
     "cell_type": "code",
     "collapsed": false,
     "input": [
      "AAs=[\"G\",\"A\",\"S\",\"P\",\"V\",\"T\",\"C\",\"I\",\"L\",\"N\",\"D\",\"K\",\"Q\",\"E\",\"M\",\"H\",\"F\",\"R\",\"Y\",\"W\"]\n",
      "AAs_mass=[57,71,87,97,99,101,103,113,113,114,115,128,128,129,131,137,147,156,163,186]\n",
      "\n",
      "def LinearSpectrum(Peptide,AminoAcid,AminoAcidMass):\n",
      "    PrefixMasses=[0]\n",
      "    for i in range(0,len(Peptide)):\n",
      "        for j in range(0,20):\n",
      "            if AminoAcid[j]==Peptide[i]:\n",
      "                PrefixMasses.append(PrefixMasses[i]+AminoAcidMass[j])\n",
      "    LinearSpec=[0]\n",
      "    for i in range(0,len(Peptide)):\n",
      "        for j in range(i+1,len(Peptide)+1):\n",
      "            LinearSpec.append(PrefixMasses[j]-PrefixMasses[i])\n",
      "    LinearSpec.sort()\n",
      "    return LinearSpec\n",
      "\n",
      "f=open(\"spectrumoutput.txt\",\"w\")\n",
      "for i in LinearSpectrum(\"PMGIEHGLNAASTGAQYSLAKPYDPTLVGGSRTVHERCKQSHMAAECF\",AAs,AAs_mass):\n",
      "    f.write(str(i)+ \" \")\n",
      "f.close()\n",
      "\n",
      "def CyclicSpectrum(Peptide,AminoAcid,AminoAcidMass):\n",
      "    PrefixMasses=[0]\n",
      "    for i in range(0,len(Peptide)):\n",
      "        for j in range(0,20):\n",
      "            if AminoAcid[j]==Peptide[i]:\n",
      "                PrefixMasses.append(PrefixMasses[i]+AminoAcidMass[j])\n",
      "    peptideMass= PrefixMasses[len(Peptide)]\n",
      "    CyclicSpec=[0]\n",
      "    for i in range(0,len(Peptide)):\n",
      "        for j in range(i+1,len(Peptide)+1):\n",
      "            CyclicSpec.append(PrefixMasses[j]-PrefixMasses[i])\n",
      "            if i>0 and j<len(Peptide):\n",
      "                CyclicSpec.append(peptideMass-(PrefixMasses[j]-PrefixMasses[i]))\n",
      "    CyclicSpec.sort()\n",
      "    return CyclicSpec\n",
      "\n",
      "z=open(\"cyclicspectrumoutput.txt\",\"w\")\n",
      "for i in CyclicSpectrum(\"TYVERRKQPPEHPYY\",AAs,AAs_mass):\n",
      "    z.write(str(i)+\" \")\n",
      "z.close()\n"
     ],
     "language": "python",
     "metadata": {},
     "outputs": [],
     "prompt_number": 5
    },
    {
     "cell_type": "markdown",
     "metadata": {},
     "source": [
      "####Well that's great but...\n",
      "\n",
      "so it's great that we can find theoretical spectrums of a known peptide...but that's kinda easy. We want to find an unknown peptide from its *experimental* spectrum. Let's start by assuming that a biologist is lucky enough to generate an ideal experimental spectrum, which is one coinciding with the peptide's theoreteical spectrum.\n",
      "\n",
      "One method you might employ to find a peptide by its spectrum, is to construct (by combination generator) every possible peptide of that weight. This is a **brute force algorithm**, an algorithim that searches every possible candidate solution in order to find the true solution.\n",
      "\n",
      "\n",
      "In their words: \n",
      "\n",
      "####Cyclopeptide Sequencing Problem:\n",
      "*Given an ideal experimental spectrum, find a cyclic peptide whose theoretical spectrum matches the experimental spectrum.*\n",
      "**Input:** A collection of (possibly repeated integers *Spectrum* corresponding to an ideal experimental spectrum.\n",
      "**Output: ** An amino acid string *Peptide* such that the *Cyclospectrum(Peptide)= Spectrum* if such a string exists\n",
      "\n"
     ]
    },
    {
     "cell_type": "markdown",
     "metadata": {},
     "source": [
      "Let's demonstrate the infeasibility of this brute force approach by computing the number of peptidse of a given total mass.\n",
      "**Input:** An integer m\n",
      "**Output:** (integer)The number of linear peptides having integer mass m\n"
     ]
    },
    {
     "cell_type": "code",
     "collapsed": false,
     "input": [
      "##Work on this in a bit-with dynamic programming help from http://www.geeksforgeeks.org/dynamic-programming-set-7-coin-change/"
     ],
     "language": "python",
     "metadata": {},
     "outputs": [],
     "prompt_number": 6
    },
    {
     "cell_type": "code",
     "collapsed": false,
     "input": [
      "## finding the number of subpeptides for a linear peptide\n",
      "\n",
      "def find_linearsubpeptides(n):\n",
      "    sum=0\n",
      "    for i in range(n+1):\n",
      "        if i==0 or i==n:\n",
      "            sum+=1\n",
      "        else:\n",
      "            sum+=(n-(i-1))\n",
      "    return sum\n",
      "# print find_linearsubpeptides(13278)"
     ],
     "language": "python",
     "metadata": {},
     "outputs": [],
     "prompt_number": 7
    },
    {
     "cell_type": "code",
     "collapsed": false,
     "input": [
      "import ASR,collections\n",
      "Expand=ASR.Expand;readindata=ASR.readindata;InitializePeptides=ASR.InitializePeptides\n",
      "find_mass=ASR.find_mass;findUnique=ASR.findUnique\n",
      "CyclicSpectrum=ASR.CyclicSpectrum\n",
      "AAs=ASR.AAs;readintextdata=ASR.readintextdata\n",
      "AAs_mass=ASR.AAs_mass\n",
      "Spectrum_Consistent=ASR.Spectrum_Consistent\n",
      "LinearSpectra=ASR.LinearSpectrum\n",
      "InitializePeptides_dict=ASR.InitializePeptides_dict;Expand_dict=ASR.Expand_dict\n",
      "\n",
      "\n",
      "##Branch and Bound Algorithim Implimentation mine below, theirs below that, both work (obviously utilizing the same logic)\n",
      "def CycloPeptideSequencing(Spectrum,AAs_mass,AAs):\n",
      "    Peptides=[];InitializePeptides(Peptides,Spectrum,AAs_mass,AAs) ## Initialize Peptides List\n",
      "    candidates=[]\n",
      "    droplist=[]\n",
      "    weights=[]\n",
      "    while len(Peptides)!=0:\n",
      "        Peptides=Expand(Peptides,AAs_mass,AAs) #Expand Peptides beyond initialization, creating appropriate kmers for testing\n",
      "        for peptide in Peptides:\n",
      "            if Spectrum_Consistent(ASR.LinearSpectrum(peptide,AAs,AAs_mass),Spectrum)==False: # Trim peptide list\n",
      "                droplist.append(peptide)\n",
      "                if i==3:\n",
      "                    z+=1\n",
      "            else:\n",
      "                if find_mass(peptide)==Spectrum[len(Spectrum)-1]: #if consistent check for complete match\n",
      "                    for AminoAcid in peptide: # if its a complete match, make ordered list of peptide weights\n",
      "                        weights.append(find_mass(str(AminoAcid)))\n",
      "                    candidates.append(list(weights))\n",
      "                    droplist.append(peptide)\n",
      "                    weights[:]=[]\n",
      "        for pep in droplist:\n",
      "            Peptides.remove(pep)\n",
      "        droplist[:]=[]\n",
      "    uniquecandidates=findUnique(candidates)\n",
      "    return uniquecandidates\n",
      "\n",
      "txtfile=\"branchboundinput.txt\"\n",
      "\n",
      "def CycloPeptideSequencing_two(Spectrum,AAs_mass,AAs):\n",
      "    Peptides=[];Peptides=InitializePeptides(Peptides,Spectrum,AAs_mass,AAs) ## Initialize Peptides List\n",
      "    candidates=[]\n",
      "    droplist=[]\n",
      "    weights=[]\n",
      "    while len(Peptides)!=0:\n",
      "        Peptides=Expand(Peptides,AAs_mass,AAs) #Expand Peptides beyond initialization, creating appropriate kmers for testing\n",
      "        for peptide in Peptides:\n",
      "            if find_mass(peptide)==Spectrum[len(Spectrum)-1]:#if consistent check for complete match\n",
      "                if CyclicSpectrum(peptide,AAs,AAs_mass)==Spectrum:\n",
      "                    for AA in peptide:# if its a complete match, make ordered list of peptide weights\n",
      "                        weights.append(find_mass(AA))\n",
      "                    candidates.append(list(weights))\n",
      "                    weights[:]=[]\n",
      "                    droplist.append(peptide)\n",
      "            elif Spectrum_Consistent(ASR.LinearSpectrum(peptide,AAs,AAs_mass),Spectrum)==False:\n",
      "                droplist.append(peptide)\n",
      "        for pep in droplist:\n",
      "            Peptides.remove(pep)\n",
      "        droplist[:]=[]\n",
      "    uniquecandidates=findUnique(candidates)\n",
      "    return uniquecandidates\n",
      "\n",
      "\n",
      "#Quiz output\n",
      "# output=open(\"branchandboundoutput.txt\",\"w\")\n",
      "# for mass in CycloPeptideSequencing_two(readindata(txtfile),AAs_mass,AAs):\n",
      "#     for i in range(len(mass)):\n",
      "#         if i==0:\n",
      "#             output.write(str(mass[i]) + \"-\")\n",
      "#         elif i<len(mass)-1:\n",
      "#             output.write(str(mass[i]) +\"-\")\n",
      "#         elif i==len(mass)-1:\n",
      "#             output.write(str(mass[i])+\"\\n\")\n",
      "# output.close()\n",
      "\n",
      "\n",
      "# SampleInput=[0, 113, 128, 186, 241, 299, 314, 427] \n",
      "# for weight in  CycloPeptideSequencing_two(SampleInput,AAs_mass,AAs):\n",
      "#      print weight"
     ],
     "language": "python",
     "metadata": {},
     "outputs": [],
     "prompt_number": 15
    },
    {
     "cell_type": "markdown",
     "metadata": {},
     "source": [
      "Mass Spectrometry Meets Golf: 2.7\n",
      "---\n",
      "\n",
      "#### From Theoretical to Experimental Spectra\n",
      "Okay so now we've got the theoretical idea down, we need to work on implimenting something more practical that can take into account the false and missing masses of real life mass spec.\n",
      "\n",
      "By creating and using a scoring function, that rates how close the actual spectra is to the theoreticalspectra, we can get a better idea of the liklihood of accuracy.\n",
      "\n",
      "We'll create a leaderboard of peptides with scores (sounds like a python dictionary to me!) and make sure that we cut all those that don't meet a certain tolerance level on each loop-including ties with our tolerance level.\n",
      "\n"
     ]
    },
    {
     "cell_type": "code",
     "collapsed": false,
     "input": [
      "def ScoreSpectra(Peptide,Spectra):\n",
      "    pepspectra=CyclicSpectrum(Peptide,AAs,AAs_mass);dups=[]\n",
      "    score=0\n",
      "    uniques=[]\n",
      "    for mass in pepspectra:\n",
      "        if mass in uniques:\n",
      "            pass\n",
      "        else:\n",
      "            pepmultiplicity=pepspectra.count(mass)\n",
      "            themultiplicity=Spectra.count(mass)\n",
      "            if pepmultiplicity<=themultiplicity:\n",
      "                score+=pepmultiplicity\n",
      "            elif pepmultiplicity>themultiplicity:\n",
      "                score+=themultiplicity\n",
      "            uniques.append(mass)\n",
      "    return score\n",
      "\n",
      "def LinearScore(Peptide,Spectra):\n",
      "    pepspectra=LinearSpectra(Peptide,AAs,AAs_mass);dups=[]\n",
      "    score=0\n",
      "    uniques=[]\n",
      "    for mass in pepspectra:\n",
      "        if mass in uniques:\n",
      "            pass\n",
      "        else:\n",
      "            pepmultiplicity=pepspectra.count(mass)\n",
      "            themultiplicity=Spectra.count(mass)\n",
      "            if pepmultiplicity<=themultiplicity:\n",
      "                score+=pepmultiplicity\n",
      "            elif pepmultiplicity>themultiplicity:\n",
      "                score+=themultiplicity\n",
      "            uniques.append(mass)\n",
      "    return score\n",
      "\n",
      "print ScoreSpectra(\"MAMA\",readindata(\"quiztwo.txt\"))\n",
      "# Sample=[0, 99, 113, 114, 128, 227, 257, 299, 355, 356, 370, 371, 484]\n",
      "# txtfile=\"scoringdata.txt\";inputdata=readindata(txtfile)\n",
      "# print ScoreSpectra(\"DLMMQEHCQFLVKSCHQTYFGSIVGHGGTGMWYIMFRSNRAQPLNSSCHS\",inputdata)"
     ],
     "language": "python",
     "metadata": {},
     "outputs": [
      {
       "ename": "NameError",
       "evalue": "name 'readindata' is not defined",
       "output_type": "pyerr",
       "traceback": [
        "\u001b[0;31m---------------------------------------------------------------------------\u001b[0m\n\u001b[0;31mNameError\u001b[0m                                 Traceback (most recent call last)",
        "\u001b[0;32m<ipython-input-9-c29aad2c139e>\u001b[0m in \u001b[0;36m<module>\u001b[0;34m()\u001b[0m\n\u001b[1;32m     33\u001b[0m     \u001b[0;32mreturn\u001b[0m \u001b[0mscore\u001b[0m\u001b[0;34m\u001b[0m\u001b[0m\n\u001b[1;32m     34\u001b[0m \u001b[0;34m\u001b[0m\u001b[0m\n\u001b[0;32m---> 35\u001b[0;31m \u001b[0;32mprint\u001b[0m \u001b[0mScoreSpectra\u001b[0m\u001b[0;34m(\u001b[0m\u001b[0;34m\"MAMA\"\u001b[0m\u001b[0;34m,\u001b[0m\u001b[0mreadindata\u001b[0m\u001b[0;34m(\u001b[0m\u001b[0;34m\"quiztwo.txt\"\u001b[0m\u001b[0;34m)\u001b[0m\u001b[0;34m)\u001b[0m\u001b[0;34m\u001b[0m\u001b[0m\n\u001b[0m\u001b[1;32m     36\u001b[0m \u001b[0;31m# Sample=[0, 99, 113, 114, 128, 227, 257, 299, 355, 356, 370, 371, 484]\u001b[0m\u001b[0;34m\u001b[0m\u001b[0;34m\u001b[0m\u001b[0m\n\u001b[1;32m     37\u001b[0m \u001b[0;31m# txtfile=\"scoringdata.txt\";inputdata=readindata(txtfile)\u001b[0m\u001b[0;34m\u001b[0m\u001b[0;34m\u001b[0m\u001b[0m\n",
        "\u001b[0;31mNameError\u001b[0m: name 'readindata' is not defined"
       ]
      }
     ],
     "prompt_number": 9
    },
    {
     "cell_type": "code",
     "collapsed": false,
     "input": [
      "# Trim function removes all peptides from leaderboard that do not meet score tolerance level\n",
      "def Trim(Leaderboard,Spectra,N):\n",
      "    Scores=[]\n",
      "    for peptide in Leaderboard:\n",
      "        Scores.append(LinearScore(peptide,Spectra))\n",
      "    Leaderboard,Scores = zip(*sorted(zip(Leaderboard, Scores),key=lambda peptide: peptide[1], reverse=True))\n",
      "    Leaderboard=list(Leaderboard);Scores=list(Scores)\n",
      "    if len(Scores)>=N: \n",
      "        Cutoffscore=Scores[N-1] # Here I am finding the Score of the Nth' peptide (in sorted order)\n",
      "        i=N-2;switch=False# iterate through index of paired Scores/Leaderboard lists\n",
      "        while switch==False and i<len(Leaderboard)-1:\n",
      "            i+=1\n",
      "            if Scores[i]<Cutoffscore: # if the score of a particular peptide (associated by index) is lower than cut off score\n",
      "                switch=True\n",
      "        print \"The length of the Leaderboard after trimming is \" + str(len(Leaderboard[0:i]))\n",
      "        return Leaderboard[0:i] # then return slice of the list that contains eligible peptides\n",
      "    else:\n",
      "        return Leaderboard\n",
      "\n",
      "def Trim_dict(Leaderboard,Spectra,N):\n",
      "    droplist=[]\n",
      "    for peptide,score in Leaderboard.items():\n",
      "        if score==None:\n",
      "            Leaderboard[peptide]=LinearScore(peptide,Spectra)\n",
      "    Scores=Leaderboard.values();Peptides=Leaderboard.keys()\n",
      "    Peptides = sorted(Leaderboard.items(),key=lambda peptide: peptide[1],reverse=True)\n",
      "    if len(Peptides)>=N:\n",
      "        Cutoffscore=Peptides[N-1][1]\n",
      "        switch=False;i=N-2\n",
      "        while switch==False and i<len(Peptides)-1:\n",
      "            i+=1\n",
      "            if Peptides[i][1]<Cutoffscore:\n",
      "                switch=True\n",
      "        print \"The length of the Leaderboard after trimming is \" + str(len(Leaderboard.values()))\n",
      "        return dict(Peptides[0:i])\n",
      "    else: return Leaderboard\n",
      "\n",
      "    \n",
      "def get_integer_mass(Peptide):\n",
      "    weights=[]\n",
      "    for AA in Peptide:\n",
      "        weights.append(find_mass(AA))\n",
      "    return weights\n",
      "\n",
      "#I didn't end up using the hashmap(dictionary) method\n",
      "def LeaderboardCycloPeptideSequencing_dict(Spectra,N,AAs,AAs_mass):\n",
      "    Leaderboard={};Leaderboard=InitializePeptides_dict(Leaderboard,Spectra,AAs_mass,AAs)\n",
      "    LeaderPeptide=\"\"; droplist=[]\n",
      "    while len(Leaderboard.keys())!=0:\n",
      "        Leaderboard=Expand_dict(Leaderboard,AAs_mass,AAs)\n",
      "        for peptide in Leaderboard.keys():\n",
      "            if find_mass(peptide)==Spectra[len(Spectra)-1]:\n",
      "                if LinearScore(peptide,Spectra)>LinearScore(LeaderPeptide,Spectra):\n",
      "                        LeaderPeptide=peptide\n",
      "                elif find_mass(peptide)>=Spectra[len(Spectra)-1]:\n",
      "                    droplist.append(peptide)\n",
      "        print \"The length of the leaderboard is \" + str(len(Leaderboard))\n",
      "        Leaderboard=Trim_dict(Leaderboard,Spectra,N)\n",
      "        for peptide in droplist:\n",
      "            if peptide in Leaderboard:\n",
      "                del Leaderboard[peptide]\n",
      "        droplist[:]=[]\n",
      "    return get_integer_mass(LeaderPeptide)\n",
      "\n",
      "\n",
      "\n",
      "def LeaderboardCycloPeptideSequencing(Spectra,N,AAs,AAs_mass):\n",
      "    Leaderboard=[];Leaderboard=InitializePeptides(Leaderboard,Spectra,AAs_mass,AAs)\n",
      "    LeaderPeptide=\"\"\n",
      "    droplist=[]\n",
      "    while len(Leaderboard)!=0:\n",
      "        Leaderboard=Expand(Leaderboard,AAs_mass,AAs)\n",
      "        for peptide in Leaderboard:\n",
      "            if find_mass(peptide)==Spectra[len(Spectra)-1]:\n",
      "                if LinearScore(peptide,Spectra)> LinearScore(LeaderPeptide,Spectra):\n",
      "                    LeaderPeptide=peptide\n",
      "            elif find_mass(peptide)>=Spectra[len(Spectra)-1]:\n",
      "                droplist.append(peptide)\n",
      "        print \"The length of the leaderboard is \" + str(len(Leaderboard))\n",
      "        Leaderboard=Trim(Leaderboard,Spectra,N)\n",
      "        for peptide in droplist:\n",
      "            if peptide in Leaderboard:\n",
      "                Leaderboard.remove(peptide)\n",
      "        droplist[:]=[]\n",
      "    return get_integer_mass(LeaderPeptide)\n",
      "\n",
      "testone=[0, 71, 113, 129, 147, 200, 218, 260, 313, 331, 347, 389, 460]\n",
      "# print LeaderboardCycloPeptideSequencing(testone,10,AAs,AAs_mass)\n",
      "# print Trim([\"LAST\", \"ALST\", \"TLLT\", \"TQAS\"],[0, 71, 87, 101, 113, 158, 184, 188, 259, 271, 372],2) #Test 1\n",
      "# Test 2\n",
      "# print \"  \\n\".join(Trim(readintextdata(\"trimtesttwo_textinput.txt\"),readindata(\"Trim.txt\"),5))\n",
      "# print LeaderboardCycloPeptideSequencing(readindata(\"CPS_test.txt\"),439,AAs,AAs_mass) #WORKS!"
     ],
     "language": "python",
     "metadata": {},
     "outputs": [],
     "prompt_number": 10
    },
    {
     "cell_type": "code",
     "collapsed": false,
     "input": [
      "##Exercise Break I haven't finished yet\n",
      "\n",
      "def LeaderboardCycloPeptideSequencing_Specific(Spectra,N,AAs,AAs_mass):\n",
      "    Leaderboard=[];Leaderboard=InitializePeptides(Leaderboard,Spectra,AAs_mass,AAs)\n",
      "    LeaderPeptide=[]\n",
      "    droplist=[]\n",
      "    while len(Leaderboard)!=0:\n",
      "        Leaderboard=Expand(Leaderboard,AAs_mass,AAs)\n",
      "        for peptide in Leaderboard:\n",
      "            if find_mass(peptide)==Spectra[len(Spectra)-1]:\n",
      "                if LinearScore(peptide,Spectra)> LinearScore(LeaderPeptide[len(LeaderPeptide)-1],Spectra):\n",
      "                    LeaderPeptide.append(peptide)\n",
      "                    if len(LeaderPeptide)>10:LeaderPeptide.pop()\n",
      "            elif find_mass(peptide)>=Spectra[len(Spectra)-1]:\n",
      "                droplist.append(peptide)\n",
      "        print \"The length of the leaderboard is \" + str(len(Leaderboard))\n",
      "        Leaderboard=Trim(Leaderboard,Spectra,N)\n",
      "        for peptide in droplist:\n",
      "            if peptide in Leaderboard:\n",
      "                Leaderboard.remove(peptide)\n",
      "        droplist[:]=[]\n",
      "    return format_pretty(LeaderPeptide)\n",
      "\n",
      "\n",
      "    \n",
      "\n",
      "def format_pretty(lists):\n",
      "    if not any(isinstance(el, list) for el in lists):\n",
      "        for mass in lists:\n",
      "            print str(mass)+\"-\",\n",
      "    else:\n",
      "        for masses in lists:\n",
      "            for mass in masses:\n",
      "                print str(mass) + \"-\",\n",
      "            print \"\\n\"\n",
      "\n"
     ],
     "language": "python",
     "metadata": {},
     "outputs": [],
     "prompt_number": 11
    },
    {
     "cell_type": "markdown",
     "metadata": {},
     "source": [
      "### From 20 Amino Acids to more than 100\n",
      "\n",
      "Turns out their is an extended list of amino acids- called non-proteinogenic amino acids- that may also be included in the creation of amino acids. This makes the sequencing problem of finding the correct mass of amino acids even more difficult and important.\n",
      "\n",
      "### The Spectral Convolution Saves the Day\n",
      "\n",
      "**convolution** is the list of all positive differences between the masses of the experimental spectrum"
     ]
    },
    {
     "cell_type": "code",
     "collapsed": false,
     "input": [
      "def Spectral_Convolution(array):\n",
      "    SpectralConvolution=[]\n",
      "    array.sort()\n",
      "    for i in range(len(array)):\n",
      "        for j in range(len(array)):\n",
      "            if array[i]>array[j] and i!=j:\n",
      "                SpectralConvolution.append(array[i]-array[j])\n",
      "    return SpectralConvolution\n",
      "\n",
      "\n",
      "# testing= Spectral_Convolution(readindata(\"SC_test.txt\"))\n",
      "# for i in testing: print i,\n",
      "# testing_two=readindata(\"SC_test_two.txt\");testing.sort()"
     ],
     "language": "python",
     "metadata": {},
     "outputs": [],
     "prompt_number": 12
    },
    {
     "cell_type": "code",
     "collapsed": false,
     "input": [
      "sample=[57, 57, 71, 99, 129, 137, 170, 186, 194, 208, 228, 265, 285, 299, 307, 323, 356, 364, 394, 422, 493]\n",
      "def ConvolutionCyclopeptideSequencing(M,N,Spectra,AAs,AAs_mass):\n",
      "    SC_M=[]; SC=Spectral_Convolution(Spectra);Multiples=[];restrictedAA_mass=[];restrictedAAs=[]\n",
      "    for spec in SC:\n",
      "        Multiples.append(SC.count(spec))\n",
      "    SC_M=list(sorted(zip(SC,Multiples),key=lambda stg: stg[1],reverse=True));Cutoff=SC_M[M][1]\n",
      "    for i in range(M,len(SC_M)): # Account for ties in multiplicity\n",
      "        if SC_M[i][1]<Cutoff:\n",
      "            M=i\n",
      "            break\n",
      "    for spec,multiplicity in SC_M[:M]:\n",
      "        restrictedAA_mass.append(spec)\n",
      "    for mass in restrictedAA_mass:\n",
      "        for i in range(len(AAs)):\n",
      "            if AAs_mass[i]==mass:\n",
      "                restrictedAAs.append(AAs[i])\n",
      "    return LeaderboardCycloPeptideSequencing(Spectra,N,AAs,restrictedAA_mass)\n",
      "\n",
      "\n",
      "\n",
      "print format_pretty(ConvolutionCyclopeptideSequencing(16,337,readindata(\"CCPS_test.txt\"),AAs,AAs_mass))"
     ],
     "language": "python",
     "metadata": {},
     "outputs": [
      {
       "output_type": "stream",
       "stream": "stdout",
       "text": [
        "The length of the leaderboard is 800\n",
        "The length of the Leaderboard after trimming is 338\n",
        "The length of the leaderboard is 6760\n",
        "The length of the Leaderboard after trimming is 370"
       ]
      },
      {
       "output_type": "stream",
       "stream": "stdout",
       "text": [
        "\n",
        "The length of the leaderboard is 7400\n",
        "The length of the Leaderboard after trimming is 776"
       ]
      },
      {
       "output_type": "stream",
       "stream": "stdout",
       "text": [
        "\n",
        "The length of the leaderboard is 15520"
       ]
      },
      {
       "output_type": "stream",
       "stream": "stdout",
       "text": [
        "\n",
        "The length of the Leaderboard after trimming is 982"
       ]
      },
      {
       "output_type": "stream",
       "stream": "stdout",
       "text": [
        "\n",
        "The length of the leaderboard is 19640"
       ]
      },
      {
       "output_type": "stream",
       "stream": "stdout",
       "text": [
        "\n",
        "The length of the Leaderboard after trimming is 378"
       ]
      },
      {
       "output_type": "stream",
       "stream": "stdout",
       "text": [
        "\n",
        "The length of the leaderboard is 7560\n",
        "The length of the Leaderboard after trimming is 382"
       ]
      },
      {
       "output_type": "stream",
       "stream": "stdout",
       "text": [
        "\n",
        "The length of the leaderboard is 7640\n",
        "The length of the Leaderboard after trimming is 408"
       ]
      },
      {
       "output_type": "stream",
       "stream": "stdout",
       "text": [
        "\n",
        "The length of the leaderboard is 8160\n",
        "The length of the Leaderboard after trimming is 444"
       ]
      },
      {
       "output_type": "stream",
       "stream": "stdout",
       "text": [
        "\n",
        "The length of the leaderboard is 8880\n",
        "The length of the Leaderboard after trimming is 468"
       ]
      },
      {
       "output_type": "stream",
       "stream": "stdout",
       "text": [
        "\n",
        "The length of the leaderboard is 9360\n",
        "The length of the Leaderboard after trimming is 376"
       ]
      },
      {
       "output_type": "stream",
       "stream": "stdout",
       "text": [
        "\n",
        "The length of the leaderboard is 7520"
       ]
      },
      {
       "output_type": "stream",
       "stream": "stdout",
       "text": [
        "\n",
        "The length of the Leaderboard after trimming is 340"
       ]
      },
      {
       "output_type": "stream",
       "stream": "stdout",
       "text": [
        "\n",
        "The length of the leaderboard is 6000"
       ]
      },
      {
       "output_type": "stream",
       "stream": "stdout",
       "text": [
        "\n",
        "The length of the Leaderboard after trimming is 788"
       ]
      },
      {
       "output_type": "stream",
       "stream": "stdout",
       "text": [
        "\n",
        "The length of the leaderboard is 240\n",
        "137-"
       ]
      },
      {
       "output_type": "stream",
       "stream": "stdout",
       "text": [
        " 131- 114- 163- 71- 186- 147- 115- 113- 97- 97- 71- 57- None\n"
       ]
      }
     ],
     "prompt_number": 20
    },
    {
     "cell_type": "code",
     "collapsed": false,
     "input": [],
     "language": "python",
     "metadata": {},
     "outputs": []
    }
   ],
   "metadata": {}
  }
 ]
}