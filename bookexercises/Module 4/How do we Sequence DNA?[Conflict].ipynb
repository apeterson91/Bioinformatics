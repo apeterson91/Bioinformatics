{
 "metadata": {
  "name": "",
  "signature": "sha256:033f9ff3deb1d967fd645b0f1fb85e3361c666ed423e4460ad589759897974fc"
 },
 "nbformat": 3,
 "nbformat_minor": 0,
 "worksheets": [
  {
   "cells": [
    {
     "cell_type": "markdown",
     "metadata": {},
     "source": [
      "###Genome Assembly is hard\n",
      "\n",
      "Like trying to put together pieces of an exploded newspaper back together, to understand what the newspaper said, genome assembly is an immensely difficult ordeal.\n",
      "\n",
      "###String Deconstruction Problem\n",
      "\n",
      "First, let's model this simply, by imagining that we're breaking down a long string into all its possible kmers"
     ]
    },
    {
     "cell_type": "code",
     "collapsed": false,
     "input": [
      "import SeqMod as sm\n",
      "def kComposition(string,k):\n",
      "    result=[string[i:i+k] for i in range(len(string)-(k-1)) if len(string[i:i+k])==k]\n",
      "    result.sort()\n",
      "    return result\n",
      "# f=open(\"composition.txt\")\n",
      "# ainput=f.read();f.close()\n",
      "# # thoutput=sm.readintextdata(\"companswers.txt\",True)\n",
      "# o=open(\"compoutput.txt\",\"w\")\n",
      "# o.write(\"\\n\".join(kComposition(ainput,100)))\n",
      "# o.close()"
     ],
     "language": "python",
     "metadata": {},
     "outputs": [],
     "prompt_number": 57
    },
    {
     "cell_type": "markdown",
     "metadata": {},
     "source": [
      "### String Reconstruction as a Walk in the Overlap Graph:\n",
      "\n",
      "Assume that there is a an overlap of each \"blown-up\" kmer, of length k-1, and that the patterns are given in order, such that the first pattern $Pattern_{i=0}"
     ]
    },
    {
     "cell_type": "code",
     "collapsed": false,
     "input": [
      "def StringReconstruction(Patterns):\n",
      "    FinalString=\"\"\n",
      "    k=len(Patterns[0])\n",
      "    for i in range(len(Patterns)):\n",
      "        if i==0:\n",
      "            FinalString+=Patterns[i]\n",
      "        else:\n",
      "            FinalString+=Patterns[i][k-1:]\n",
      "    FinalString.strip()\n",
      "    return FinalString\n",
      "\n",
      "# answer=\"AAGCTCGACAAGACGCACCACCGATTATTTGGTAAAACCCCGCTTGGTCACCAGGAGTGTTGTGGTCAAACTTTAACTGAGCCGAACGTCTGGGACGGAGGGACCCTACGCTTGAAACACCCTGCGGGGAGAAATAATGTTTCGAGTCTAGAGGTTCACAACCATAAAGGTAATTGTCACCTGAGATCGTTAAGCCGACTTATTAACTAAAGGACTATCCCCACGAAAAGAGGACAGATCTACACTATTCCTACCGCTGATACGTTGGCTCTACGATCATATATTATATGGAGCCGTCCGACGTCACTTCAAACCGGTTTAAATCGAACAACGGTCCATTCCCCGACTAGGGCGGCCTATGGAGCGACGGATAGACTATCGCCGCGCGGGACTAACCCGCCGTGAGTCCCGGCTAAGAACTCCATCCTTCTGATGACACTCTACCATAGCTGAACCGTGACTATCAAACTAGTTGACTCGTGGCAGGATTCACGATTGACTTGACTTACCCCACCGAACGCAGTCCGGATAATGTCGCCTAGAGGTAACTTGTACGAGCCATCTTCCAGCGGCAGTCCGCAGATACTTTTGCATTGCCGCACCCGACGCGGAAATTTGTGGGAGGGCGGTGACCACTCGTACACGAGTCCATGCACCTCCGTTACCACAGGCCTAAATCGGACCCGCACAATCCCGGTGACTCGGATTTGCGTACAACCCGACCTCGAGCTGATTAATGGGCGGTTATATGGTACTCCCGTAGATAGTGGACCTCCAGCCCAGGTGGAGGGCTAACCCCCGTATGGCAGCACTAAACATCAGTCCGATCCGCATGAGCAGTAGATGGTGTAAATTTCTAGGAACGCCGTATGGTAACGCCTCGGCGTGAAGGGGGCATACAGATGAGATACATCGACTCACGTAGATTCATCCTACTTAGAATGAAGGCGGTTATGGTTATTTTGTGAAGATTAGTGCGAATGCACTGCCCTTGTAGGGCTGGCTGTCATTTCCGTGGCGTAGATTGTAGCACAGTTTTGGTTGCAATGATCACTTGCCCCGATCCTCACTACCGGCGACCAAAGGGATCAAAACGAGCTCGATGTCTGTGCTATGATTAGTCCTCAACATCGAGTAGGTTCACAAGGATTGCTCATAGACAGGGCCCATTGGTACTTTGATAAATTGTATCCAAGCGGGGGCCTAAGTTGTATTAACTGATTGCGATAAGTATTGAGCTCTGATCGGTGAAATGACTCGGAGCGCATCTGCTCTTGAGTACGACCGCTGAGATCATTAGGTTGACCTCGATTAAGGCGTATTGTCTAAAACACTGTCCGGGGGTGGCCTGCGAGAAAATTCACTATAAGGCGAATGCAGTCCACGAGTTGTAAAGGGAGGAAGCTCAAACTCCCCCCTAGGCTTGAAGCGTTCTCACGAGCACCGATGCCATCGTTAAACGTCAGTTATTACGGCACACCAACGGCATTTTCTCCCCCCTTTCGCCCTCGACCATTTAGTATATGGACATAATCATGATGAAGAATTTCAACTATCTTAGTGACGAGCTGTATGATTAGAAATCACAGTAGTGAAGTCACAACTACCCGCACACTTGGATGTTCAATGCCGTGTTGCACAACCCAACAGTGGTACATTCTCGCACTGCAAGGTGGGATATCAGGGCCTTAGTGCCCTTGGGTAGGCAACTGTGTGGTGACTACTGCATCCAAGCTAGGTGTTGCTAAACCGGATACGTACCTGGATGGGGACAAACTTGGCGTCTCCGAGCAGTGCTAAAGGGATACATTACCACATGCACACCTCTCAATTCGGTCAGGGGACTCGATGCCTCAATGGGTAGCGAGGATGGGTAGACACAAAAATGAAATCACCCACGTCGCCTTTAAGGGACAGTTATTGCGTGTCCTACTTTAATGCTAAGCGTTGGGTTTAGAGGTCATCTCACGATTTACGTCAAGTCGGCGTAGAACTGCCCCAAATTCCATACGTTATTCGAATGGATTGTCGTAACCGCGGCTCCGGGCGAATAGAGATATGAACAGTATGCTGCTTAAGGGCTTCGGCTCTCTGCGTTCACATGATACATTAATCAGTAAAAAGTTGGGTCATGACGAATATCCCGCTAGGTTAAGTTTGCCCATCCGCGGCGTCTCGGACAAATCCGCCAAAGACTCGTGCAGTCAGAAAAATCTTAACCCAAGTCCAAGATGGGGATCTCGCCCAAAATGGTGAGGCCGCGTGCGGACGCGACTTTCGGCCTATTTGCGGATATCATCAGGACCTGCGTATCTGTCGCGAGCAATAGAACTACTGTCCCTTCGGACTGGAAGAGCCCCGCGTGAACGCAGATCCATAGCAGGCGGTGGTTGAAACGTATGTATGTGCGCTCATCATTTCGTGGCTAGCGCCCAAATGCTCGAGCGCCGGTCAGGTGCAGGGTGACACGACACACGGCAATCCTGCAATTCAGTGGATAGCTACAACACTTGCGATCGAGGTTGGCCTGCCTCGAGCACTGAGACAGTGCCTACCGCCGTTAAGACTCACAGGGCAGAAATCTTGGTTTCAGTAATAGTAGTTCTCGGAACCATCGCGAGACAGTCGATGCAGACGACTTAACAGTGCATGTCGCGTGGGGAGCCGCTGAACTTTTTCAGTAACGATTGACTATAAAAGCCTACATCCATTCACGGAACCCACCCTAGGACCCTGAAGCCGCCCGTGTGCACCGGGGTGTTCTAAAGAATCCCTCCTTACCATTTCGGTTCGTCGGTAGAACCTCAGAGATGTACAAATGAACAACTAAAGCTAGTGCGGGACTCCCGGAGCCCAGAAGGCGTGCCCGTCAAAGTGACGATCAAGCTCAAGTCACGGATAAGCACGTCGTGTCACGAGTGAGCCTGGCAATCAGGGGGTCTACTAGTAACCCGTCTGACTAGCTATATAGGTCTATCGCCTGTTTCATCCGCATAACATACGAGGAAAACACTGCTAGCATGGTGCGCTGAAGGGTTTGGTGCCAACCTCCGCAAGGTCAATCTGCATCTTTCTGCACTGCATAACCCGCCTTATCTTAAGGGGGTTGCCTCAGAATCGTGCTATAAACATGTGCAATATTGATGGCTCCTTAGCGCCCATTGCCAAAAAATATTTAGGCGAAGATTGTGGTCATTGAGCGTCTAATAATAGCATGAATGCCAGTGGTACCATTCTGTCTAGACAATATGTTGTACGCTGCTGCCGACGACTGTTAATCCGTATCTTTTCGAGAACAACGCTTCTAAAGAGCTTGGCCTGCCTGTCCTGACCGACACATTAGCACTATAGTTGACTCGGATGCGCTCATACCTGTGCAGAGGTAAACCCCTTGGAGACAGGTCCTAAGCATTCCGTGCTAACCATAGCTAATATTTTAGCCCCTTGGCTGTAAAGAATAGGATTGGGGTGTCGGTAATAGGCTAATCTTGTATCCCGCGGTCCAGGTGCGGCCTGGGAGGCAGCACGTACATTAATCGAGCTATGGAGATAATTGTTAGTACCTGTGGAACTGTTTGAGTGCAATATGGCTCCCTTGCCGTGTGGGGGCTGAGATAAGTTCGTGAACAGAGAAGCTGATGTCGATAATAGATATTGTTACAAGAGACTTTAGTTTTATAACAAACTCAGATGACCGAGAAGTGTACCGTTGTTACACTCTATGGATCGGCATTAGGCTACGCGCACGTCCCCCCACGGCTTGCGCAGTACCCTCCGATCTCTATATACACTAGCTGTCGATGCGCGAATCTGTTGCCGTCATCTTCTTGCGTTATTTCCCGTGTCTAGGTACTCGGGGTGAAACATTACGGCTTAAATAGACGTATCCAATGAAAAGATTGCACTCGCGAAGTGACTCGACCAGCTATGTCGCCCTCCTATCTGACTCCACATCCGACGTTCGTTTAAGGCCTCGCGGTACAACTGTAGTCGTGACCGTGCACATCACTGATGAGGTTCATTCATAGAATTGTATGAAAGCACGAAACAATAATTTTCCTGTGGAGCTTTGGGTATTTGGACTCGAGGGCGCGAGGTCGTGTCCCTGGCAGTAACAAAACAAGTCTCCTGACAACATTCCCTAGAGGTACGAAATGTCCTACCGACCCCTCAATAGTTCGAGATTGAGTCTGACTAACTAGAACCCGCCATACTATATGGTCGTGCTAGATATATTAGCAGAGTTTCTTCCTGTCAGACTTCTATACTGTCGCACATACTTTCTTTGAAAACGTGCATATTGAGTGTCCAACACATGAACACAAGACGATTAGCGCCTACTTTCAAACCTTCCCTTCGGACCACGATTGAGTTGTGACTATAAGGTAGCCTGGATACACGCAATTAGGTACAGATACTCTACCACTGTTTTGTTTGTTGCTGGACCAAAAAGCGGCTCTCTGACCAATCTCATTAGTCTGGTTGTAGCTCAGATACACCTAAAAAAGCACCACGTGAGTTACAATTTGGTATATCCGTCCGTTCTAACAATCTGTTAACTCGCCGCTAATCTTTAAAACCTCCATACGGTGCATTGTCTCGTCAACTAATCTGCGCACATTAGACCAGTGATCTATCGCATCAATTATAAATCATTTCGGATAGAAGTATAGTGAAAGTTCACCAATAAGGTTGACCGCGTGTCGTCTGACGTAGAAGGTATCCAGGCGCCGAGGATACTAAGATAACACTTGAGAGTCATGTATCAGCGTGTTGAAGATTCGACGCGTTTGTCTTAGCTAGGCGGCTGCAGAGAGCACTACCACGCATACGAAGGTGTTTATTCGGAATTCTGCAACTAGAGTGCAGGTCATCAGCACGAATCGATCTTTTACGTTCAACATTCCGAAAGCGGAACGCCAACTGTCATAGTCCTGACTTAGTAGAGGCCTGAACAACTCCTCAATAAGGATAGACACGCAAGCGGAGATGCACGTCAG\"\n",
      "# Example=sm.readintextdata(\"SRinput.txt\",True)\n",
      "# f=open(\"SRoutput.txt\",\"w\")\n",
      "# f.write(StringReconstruction(Example))\n",
      "# f.close()"
     ],
     "language": "python",
     "metadata": {},
     "outputs": [],
     "prompt_number": 29
    },
    {
     "cell_type": "markdown",
     "metadata": {},
     "source": [
      "We can create a \"path\" a graph connecting each Prefix of length k-1 starting from the front of the kmer, to the suffix of the previous pattern (also of length k-1 starting from the end of the kmer)"
     ]
    },
    {
     "cell_type": "code",
     "collapsed": false,
     "input": [
      "def OverlapGraphProblem(Patterns):\n",
      "    k=len(Patterns[0]);graph={}\n",
      "    for Pattern in Patterns:\n",
      "        graph[Pattern]=None\n",
      "    prefixes=[Pattern[0:k-1] for Pattern in Patterns]\n",
      "    for pattern in graph.keys():\n",
      "        for j in range(len(prefixes)):\n",
      "            if Suffix(pattern)==prefixes[j]:\n",
      "                graph[pattern]=Patterns[j]\n",
      "    return graph\n",
      "\n",
      "def Suffix(string):\n",
      "    return string[(len(string)-len(string)+1):len(string)]\n",
      "def Prefix(string):\n",
      "    return string[:len(string)-1]\n",
      "\n",
      "# Example=sm.readintextdata(\"SRinput.txt\",True)\n",
      "\n",
      "# answer= OverlapGraphProblem(Example)\n",
      "# f=open(\"OGPoutput.txt\",\"w\")\n",
      "# answers= answer.items()\n",
      "# answers= sorted(answers,key=lambda stg: stg[0])\n",
      "# for i,j in answers:\n",
      "#     if j!=None:\n",
      "#         f.write(i + \" -> \" + j)\n",
      "#         f.write(\"\\n\")\n",
      "# f.close()"
     ],
     "language": "python",
     "metadata": {},
     "outputs": [],
     "prompt_number": 72
    },
    {
     "cell_type": "heading",
     "level": 1,
     "metadata": {},
     "source": [
      "### Hamiltonian Path and Universal Strings\n",
      "\n",
      "We now know that to solve the String Reconstruction Problem, we are looking for a path in the overlap graph that visits every node exactly once. A path in a graph visiting every node once is called a Hamiltonian path, in honor of the Irish mathematician William Hamilton"
     ]
    },
    {
     "cell_type": "code",
     "collapsed": false,
     "input": [
      "def HamiltonianPath(Text,k):\n",
      "    graph={}\n",
      "    kmers=[Text[i:i+k-1] for i in range(len(Text)-k)]\n",
      "    for kmer in kmers: # initialize graph\n",
      "        graph[kmer]=[]\n",
      "    for kmer in graph.keys():\n",
      "        for kmerprime in graph.keys():\n",
      "            if Suffix(kmer)==Prefix(kmerprime):\n",
      "                graph[kmer].append(kmerprime)\n",
      "    return graph\n",
      "\n",
      "result= HamiltonianPath(\"AAGATTCTCTAAGA\",4)\n",
      "# result=sorted(result,key=lambda stg: stg[0])\n",
      "for i,k in result.items():\n",
      "    print i,k\n"
     ],
     "language": "python",
     "metadata": {},
     "outputs": [
      {
       "output_type": "stream",
       "stream": "stdout",
       "text": [
        "AAG ['AGA']\n",
        "TCT ['CTA', 'CTC']\n",
        "GAT ['ATT']\n",
        "AGA ['GAT']\n",
        "ATT ['TTC']\n",
        "CTA ['TAA']\n",
        "CTC ['TCT']\n",
        "TTC ['TCT']\n",
        "TAA ['AAG']\n"
       ]
      }
     ],
     "prompt_number": 79
    },
    {
     "cell_type": "code",
     "collapsed": false,
     "input": [
      "AAG -> AGA,AGA\n",
      "AGA -> GAT\n",
      "ATT -> TTC\n",
      "CTA -> TAA\n",
      "CTC -> TCT\n",
      "GAT -> ATT\n",
      "TAA -> AAG\n",
      "TCT -> CTA,CTC\n",
      "TTC -> TCT"
     ],
     "language": "python",
     "metadata": {},
     "outputs": []
    }
   ],
   "metadata": {}
  }
 ]
}